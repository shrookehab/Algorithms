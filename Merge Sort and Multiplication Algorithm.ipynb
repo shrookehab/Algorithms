{
 "cells": [
  {
   "cell_type": "markdown",
   "id": "a0fa9e2d",
   "metadata": {},
   "source": [
    "# Lab 3 \n",
    "# Shrook Ehab Attia\n",
    "# AI Nasr City Group 1"
   ]
  },
  {
   "cell_type": "markdown",
   "id": "dcc1559b",
   "metadata": {},
   "source": [
    "### 1 Merge Sort"
   ]
  },
  {
   "cell_type": "markdown",
   "id": "b99dbfb4",
   "metadata": {},
   "source": [
    "#### The dance is correct as the merge sort is to divide the array then work in the left anad divide until reach the base case then sort and merge until finish the left side"
   ]
  },
  {
   "cell_type": "code",
   "execution_count": 19,
   "id": "c1bf7549",
   "metadata": {},
   "outputs": [
    {
     "name": "stdout",
     "output_type": "stream",
     "text": [
      "The Array before sorting is:  [3, 1, 22, 4, 9, 5, 33, 2]\n",
      "The Array after sorting is:  [1, 2, 3, 4, 5, 9, 22, 33]\n"
     ]
    }
   ],
   "source": [
    "def merge(arr, leftArr, rightArr, leftSize, rightSize):\n",
    "    i = 0\n",
    "    left = 0\n",
    "    right = 0\n",
    "    while left < leftSize and  right < rightSize:\n",
    "        if leftArr[left] < rightArr[right]:\n",
    "            arr[i] = leftArr[left]\n",
    "            left+=1        \n",
    "        else:\n",
    "            arr[i] = rightArr[right]\n",
    "            right+=1      \n",
    "        i+=1\n",
    "    while left < leftSize:\n",
    "        arr[i] = leftArr[left]\n",
    "        left+=1\n",
    "        i+=1\n",
    "    while right < rightSize:\n",
    "        arr[i] = rightArr[right]\n",
    "        right+=1\n",
    "        i+=1\n",
    "    \n",
    "def mergeSort(arr, size): #Space Complexity = n + n = O(N)\n",
    "    if size < 2:\n",
    "        return\n",
    "    mid = size // 2\n",
    "    j = 0\n",
    "    leftArr = arr[:mid]\n",
    "    rightArr = arr[mid:]\n",
    "    for i in range(size):\n",
    "        if i < mid:\n",
    "            leftArr[i] = arr[i]\n",
    "        else:\n",
    "            rightArr[j] = arr[i]\n",
    "            j+=1\n",
    "    mergeSort(leftArr, mid)\n",
    "    mergeSort(rightArr, size - mid)\n",
    "    merge(arr, leftArr, rightArr, mid, size - mid)\n",
    "\n",
    "#        T(N) = 2T(N/2) + O(N)\n",
    "#        using Master Case\n",
    "#            N vs N^log 2 base 2\n",
    "#            N vs N\n",
    "#            N vs N\n",
    "#            ->case 2: theta(N * log N)\n",
    "\n",
    "arr = [3,1,22,4,9,5,33,2]\n",
    "print('The Array before sorting is: ', arr)\n",
    "size = len(arr)\n",
    "mergeSort(arr, size)\n",
    "print('The Array after sorting is: ', arr)"
   ]
  },
  {
   "cell_type": "markdown",
   "id": "2db20a78",
   "metadata": {},
   "source": [
    "### 2.1 Multiplication"
   ]
  },
  {
   "cell_type": "code",
   "execution_count": 20,
   "id": "db833596",
   "metadata": {},
   "outputs": [
    {
     "name": "stdout",
     "output_type": "stream",
     "text": [
      "The Multiplication of x and y is:  7006652\n"
     ]
    }
   ],
   "source": [
    "def add(list1, list2): #O(N)\n",
    "    length = len(list1)\n",
    "    carry = 0\n",
    "    padding = [0] * length\n",
    "    for i in range(length):\n",
    "        result = list1[i] + list2[i] + carry\n",
    "        carry = result // 10\n",
    "        reminder = result % 10\n",
    "        padding[i] = reminder\n",
    "    return padding\n",
    "\n",
    "def multiply(num1, num2):#O(N^2)\n",
    "    if (num1 == '0') or (num2 == '0'): \n",
    "        return '0'\n",
    "    length = len(num1) + len(num2) + 1\n",
    "    padding = [0] * length\n",
    "\n",
    "    num1 = num1[::-1]\n",
    "    num2 = num2[::-1]\n",
    "    for power, counter2 in enumerate(num2):\n",
    "        carry = 0\n",
    "        padd = [0] * length\n",
    "        for i, counter1 in enumerate(num1):\n",
    "            result = int(counter1) * int(counter2) + carry\n",
    "            carry = result // 10  # new carry\n",
    "            reminder = result % 10\n",
    "            index = power + i\n",
    "            padd[index] = reminder\n",
    "            padd[index + 1] = carry\n",
    "        padding = add(padding, padd)\n",
    "\n",
    "        # Strip leading zeros from answer\n",
    "    padding.reverse()\n",
    "    i = 0\n",
    "    while padding[i] == 0:\n",
    "        i += 1\n",
    "    padding = padding[i:]\n",
    "\n",
    "        # Create string and return\n",
    "    return ''.join([str(c) for c in padding])\n",
    "x = '1234'\n",
    "y = '5678'\n",
    "print('The Multiplication of x and y is: ', multiply(x, y))"
   ]
  },
  {
   "cell_type": "markdown",
   "id": "f7635e92",
   "metadata": {},
   "source": [
    "### 2.2 Classical Multiplication"
   ]
  },
  {
   "cell_type": "code",
   "execution_count": 21,
   "id": "124c6132",
   "metadata": {},
   "outputs": [
    {
     "name": "stdout",
     "output_type": "stream",
     "text": [
      "The Multiplication of x and y is:  7006652\n"
     ]
    }
   ],
   "source": [
    "def ClassicalMul(x,y): #T(N) = 4T(N/2) + O(N)\n",
    "    if len(str(x)) == 1 or len(str(y)) == 1:\n",
    "        return x*y\n",
    "    else:\n",
    "        length = max(len(str(x)),len(str(y)))\n",
    "        padding = length // 2\n",
    "        a = x // 10**(padding)\n",
    "        b = x % 10**(padding)\n",
    "        c = y // 10**(padding)\n",
    "        d = y % 10**(padding)\n",
    "        ac = ClassicalMul(a,c)\n",
    "        ad = ClassicalMul(a,d)\n",
    "        bc = ClassicalMul(b,c)\n",
    "        bd = ClassicalMul(b,d)\n",
    "        finalMul = ac * 10**(2*padding) + ((ad + bc) * 10**padding) + bd\n",
    "        return finalMul\n",
    "x=5678\n",
    "y=1234\n",
    "print('The Multiplication of x and y is: ', ClassicalMul(x, y))\n",
    "\n",
    "#                T(N) = 4T(N/2) + θ(N)\n",
    "#         using Master Method:- => where :- f(N)=N, a=4, b=2\n",
    "#             f(N) VS (N^log a base b)\n",
    "#               N  VS (N^log 4 base 2)\n",
    "#               N  VS (N^2)\n",
    "#               =>Case1:-\n",
    "#                   f(N) = O(N^log a base b - Ɛ)\n",
    "#                   N = O(N^2 - Ɛ)\n",
    "#                    any 2 > Ɛ > 0\n",
    "#                   ∴ θ(N^2) in worstCase."
   ]
  },
  {
   "cell_type": "markdown",
   "id": "3096db44",
   "metadata": {},
   "source": [
    "### 2.3 karatsuba Multiplication"
   ]
  },
  {
   "cell_type": "code",
   "execution_count": 22,
   "id": "974f20ee",
   "metadata": {},
   "outputs": [
    {
     "name": "stdout",
     "output_type": "stream",
     "text": [
      "The Multiplication of x and y is:  7006652\n"
     ]
    }
   ],
   "source": [
    "def KaratsubaMul(x,y):#T(N) = 3T(N/2) + O(N)\n",
    "    if len(str(x)) == 1 or len(str(y)) == 1:\n",
    "        return x*y\n",
    "    else:\n",
    "        length = max(len(str(x)),len(str(y)))\n",
    "        padding = length // 2\n",
    "        a = x // 10**(padding)\n",
    "        b = x % 10**(padding)\n",
    "        c = y // 10**(padding)\n",
    "        d = y % 10**(padding)\n",
    "        ac = KaratsubaMul(a,c)\n",
    "        bd = KaratsubaMul(b,d)\n",
    "        z = KaratsubaMul((a+b), (c+d)) - ac - bd\n",
    "        finalMul = ac * 10**(2*padding) + (z * 10**padding) + bd\n",
    "        return finalMul\n",
    "x = 5678\n",
    "y = 1234\n",
    "print('The Multiplication of x and y is: ', KaratsubaMul(x, y))\n",
    "\n",
    "#                T(N) = 3T(N/2) + θ(N)\n",
    "#         using Master Method:- => where :- f(N)=N, a=3, b=2\n",
    "#             f(N) VS (N^log a base b)\n",
    "#               N  VS (N^log 3 base 2)\n",
    "#               N  VS (N^1.58)\n",
    "#               =>Case1:-\n",
    "#                   f(N) = O(N^log a base b - Ɛ)\n",
    "#                   N = O(N^1.58 - Ɛ)\n",
    "#                    any 1.58 > Ɛ > 0\n",
    "#                   ∴ θ(N^1.58) in worstCase."
   ]
  },
  {
   "cell_type": "code",
   "execution_count": null,
   "id": "79e69137",
   "metadata": {},
   "outputs": [],
   "source": []
  }
 ],
 "metadata": {
  "kernelspec": {
   "display_name": "Python 3 (ipykernel)",
   "language": "python",
   "name": "python3"
  },
  "language_info": {
   "codemirror_mode": {
    "name": "ipython",
    "version": 3
   },
   "file_extension": ".py",
   "mimetype": "text/x-python",
   "name": "python",
   "nbconvert_exporter": "python",
   "pygments_lexer": "ipython3",
   "version": "3.7.3"
  }
 },
 "nbformat": 4,
 "nbformat_minor": 5
}
