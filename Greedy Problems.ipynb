{
 "cells": [
  {
   "cell_type": "markdown",
   "id": "eb4f39e7",
   "metadata": {},
   "source": [
    "# Lab 2\n",
    "# Shrook Ehab Attia\n",
    "# AI Nasr City Group 1"
   ]
  },
  {
   "cell_type": "markdown",
   "id": "358ba0da",
   "metadata": {},
   "source": [
    "### 1.1 Money Change Problem(Greedy)"
   ]
  },
  {
   "cell_type": "code",
   "execution_count": 32,
   "id": "40d5b2fd",
   "metadata": {},
   "outputs": [
    {
     "name": "stdout",
     "output_type": "stream",
     "text": [
      "List of combination of money is :  [20, 1, 1, 1, 1]\n"
     ]
    }
   ],
   "source": [
    "def MoneyChangeG(target, values): #O(N^2)\n",
    "    combination = []\n",
    "    for cent in values:\n",
    "        while target != 0:\n",
    "            if cent <= target:\n",
    "                target = target - cent\n",
    "                combination.append(cent)\n",
    "            else:\n",
    "                break\n",
    "    return combination\n",
    "\n",
    "target= 24\n",
    "values = [1, 8, 20]\n",
    "values.sort(reverse = True)\n",
    "money = MoneyChangeG(target, values)\n",
    "print('List of combination of money is : ', money)"
   ]
  },
  {
   "cell_type": "markdown",
   "id": "82849ad5",
   "metadata": {},
   "source": [
    "### 1.2 Money Change Problem(Optimal)"
   ]
  },
  {
   "cell_type": "code",
   "execution_count": 33,
   "id": "f8607e35",
   "metadata": {},
   "outputs": [
    {
     "name": "stdout",
     "output_type": "stream",
     "text": [
      "List of best combination of money is :  [8, 8, 8]\n"
     ]
    }
   ],
   "source": [
    "def removeDuplicates(result):\n",
    "    filtered = set()\n",
    "    for r in result:\n",
    "        r.sort()\n",
    "        filtered.add(tuple(r))\n",
    "    return [list(i) for i in filtered]\n",
    "\n",
    "def MoneyChangeB(target):\n",
    "    if target == 0:\n",
    "        return [[]]   \n",
    "    if target < 0:\n",
    "        return []     \n",
    "    else:\n",
    "        combination = []\n",
    "    for i in values:\n",
    "        result = MoneyChangeB(target-i)\n",
    "        for r in result:\n",
    "            r.append(i)\n",
    "        combination.extend(result)\n",
    "    return removeDuplicates(combination)\n",
    "\n",
    "target = 24\n",
    "values = [1, 8, 20]\n",
    "print('List of best combination of money is : ', min(MoneyChangeB(target), key = len))"
   ]
  },
  {
   "cell_type": "markdown",
   "id": "f31542f8",
   "metadata": {},
   "source": [
    "### 2.1 Fraction Knapsack Problem (Greedy)\n",
    "#### There is no brute force solution as greedy achieved the optimal solution "
   ]
  },
  {
   "cell_type": "code",
   "execution_count": 34,
   "id": "b8569df6",
   "metadata": {},
   "outputs": [
    {
     "name": "stdout",
     "output_type": "stream",
     "text": [
      "the Total weight =  240\n"
     ]
    }
   ],
   "source": [
    "def Knapsack(weights, values, capacity):\n",
    "    result = 0\n",
    "    for item in sorted(zip(weights, values)):\n",
    "        if not bool(capacity):\n",
    "            break\n",
    "        if item[0] > capacity:\n",
    "            result += int(item[1] / (item[0] / capacity))\n",
    "            capacity = 0\n",
    "        elif item[0] <= capacity:\n",
    "            result += item[1]\n",
    "            capacity -= item[0]\n",
    "    return int(result) \n",
    "weights = [10, 20, 30]\n",
    "values = [60, 100, 120]\n",
    "capacity = 50\n",
    "print('the Total weight = ', Knapsack(weights, values, capacity))"
   ]
  },
  {
   "cell_type": "markdown",
   "id": "8255ddbd",
   "metadata": {},
   "source": [
    "### 3.1 0-1 Knapsack Problem (Greedy)"
   ]
  },
  {
   "cell_type": "code",
   "execution_count": 35,
   "id": "41054b9a",
   "metadata": {},
   "outputs": [
    {
     "name": "stdout",
     "output_type": "stream",
     "text": [
      "the Total weight =  160\n"
     ]
    }
   ],
   "source": [
    "def Knapsack(weights, values, capacity):\n",
    "    result = 0\n",
    "    for item in sorted(zip(weights, values)):\n",
    "        if not bool(capacity):\n",
    "            break\n",
    "        if item[0] <= capacity:\n",
    "            result += item[1]\n",
    "            capacity -= item[0]\n",
    "    return int(result) \n",
    "weights = [10, 20, 30]\n",
    "values = [60, 100, 120]\n",
    "capacity = 50\n",
    "print('the Total weight = ', Knapsack(weights, values, capacity))"
   ]
  },
  {
   "cell_type": "markdown",
   "id": "e4a9b403",
   "metadata": {},
   "source": [
    "### 3.2 0-1 Knapsack Problem (Optimal)"
   ]
  },
  {
   "cell_type": "code",
   "execution_count": 36,
   "id": "d7a44fe2",
   "metadata": {},
   "outputs": [
    {
     "name": "stdout",
     "output_type": "stream",
     "text": [
      "the Total weight =  220\n"
     ]
    }
   ],
   "source": [
    "def knapsack(weights, values, capacity, length):\n",
    "    if length == 0 or capacity == 0 :\n",
    "        return 0\n",
    "    if (weights[length-1] > capacity):\n",
    "        return knapsack(weights, values, capacity, length-1)\n",
    "    else:\n",
    "        return max(values[length-1] + knapsack(weights, values, capacity-weights[length-1], length-1), knapsack(weights, values, capacity, length-1))\n",
    "\n",
    "values = [60, 100, 120]\n",
    "weights = [10, 20, 30]\n",
    "capacity = 50\n",
    "length = len(values)\n",
    "print('the Total weight = ', knapsack(weights, values, capacity, length))"
   ]
  },
  {
   "cell_type": "code",
   "execution_count": null,
   "id": "dc7ac4a3",
   "metadata": {},
   "outputs": [],
   "source": []
  }
 ],
 "metadata": {
  "kernelspec": {
   "display_name": "Python 3 (ipykernel)",
   "language": "python",
   "name": "python3"
  },
  "language_info": {
   "codemirror_mode": {
    "name": "ipython",
    "version": 3
   },
   "file_extension": ".py",
   "mimetype": "text/x-python",
   "name": "python",
   "nbconvert_exporter": "python",
   "pygments_lexer": "ipython3",
   "version": "3.7.3"
  }
 },
 "nbformat": 4,
 "nbformat_minor": 5
}
