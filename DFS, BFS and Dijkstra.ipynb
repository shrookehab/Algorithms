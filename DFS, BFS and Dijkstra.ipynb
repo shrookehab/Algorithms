{
 "cells": [
  {
   "cell_type": "markdown",
   "id": "6b257100",
   "metadata": {},
   "source": [
    "# Lab5\n",
    "## Shrook Ehab Attia\n",
    "## AI - G1 - Nasr City\n",
    "### Implementing classes used (Stack Class)"
   ]
  },
  {
   "cell_type": "code",
   "execution_count": 35,
   "id": "1d87e7cf",
   "metadata": {},
   "outputs": [],
   "source": [
    "class Stack:\n",
    "    def __init__(self, the_stack_length):\n",
    "        self.the_stack_length = the_stack_length\n",
    "        self.arr = []\n",
    "    def push(self,new_value):\n",
    "        if self.is_full():\n",
    "            print('stack is full')\n",
    "        else:\n",
    "            self.arr.append(new_value)\n",
    "        \n",
    "    def pop(self):\n",
    "        if self.is_empty():\n",
    "            print('Stack is EMPTY!!')\n",
    "        else:\n",
    "            last_element = self.arr[len(self.arr)-1]\n",
    "            del(self.arr[len(self.arr)-1])\n",
    "            return last_element\n",
    "        \n",
    "    def is_full(self):\n",
    "        if len(self.arr) == self.the_stack_length:\n",
    "            return True\n",
    "        else:\n",
    "            return False\n",
    "            \n",
    "    def is_empty(self):\n",
    "        if len(self.arr) == 0:\n",
    "            return True\n",
    "        else:\n",
    "            return False"
   ]
  },
  {
   "cell_type": "markdown",
   "id": "a12760bf",
   "metadata": {},
   "source": [
    "### Implementing classes used (Queue Class)"
   ]
  },
  {
   "cell_type": "code",
   "execution_count": 36,
   "id": "e8dcf263",
   "metadata": {},
   "outputs": [],
   "source": [
    "class Queue:\n",
    "    def __init__(self, the_stack_length):\n",
    "        self.the_stack_length = the_stack_length\n",
    "        self.arr = []\n",
    "    def push(self,new_value):\n",
    "        if self.is_full():\n",
    "            print('Queue is full')\n",
    "        else:\n",
    "            self.arr.append(new_value)\n",
    "        \n",
    "    def pop(self):\n",
    "        if self.is_empty():\n",
    "            print('Queue is EMPTY!!')\n",
    "        else:\n",
    "            first_element = self.arr[0]\n",
    "            del(self.arr[0])\n",
    "            return first_element\n",
    "        \n",
    "    def is_full(self):\n",
    "        if len(self.arr) == self.the_stack_length:\n",
    "            return True\n",
    "        else:\n",
    "            return False\n",
    "            \n",
    "    def is_empty(self):\n",
    "        if len(self.arr) == 0:\n",
    "            return True\n",
    "        else:\n",
    "            return False"
   ]
  },
  {
   "cell_type": "markdown",
   "id": "7f65cd9a",
   "metadata": {},
   "source": [
    "### Implementing classes used (Graph Class)"
   ]
  },
  {
   "cell_type": "code",
   "execution_count": 37,
   "id": "0faa8c93",
   "metadata": {},
   "outputs": [],
   "source": [
    "from collections import defaultdict, deque \n",
    "class Graph (object) :\n",
    "    def __init__ (self) :\n",
    "        self.nodes = set()\n",
    "        self.edges = defaultdict(list)\n",
    "        self.distances = {}\n",
    "    def add_node (self, value) :\n",
    "        self.nodes.add(value)\n",
    "    def add_edge (self, from_node, to_node, distance) :\n",
    "        self.edges[from_node].append(to_node)\n",
    "        self.edges[to_node].append(from_node)\n",
    "        self.distances[(from_node, to_node)] = distance\n",
    "        self.distances[(to_node,from_node)] = distance"
   ]
  },
  {
   "cell_type": "markdown",
   "id": "2575c869",
   "metadata": {},
   "source": [
    "### Define the used graph"
   ]
  },
  {
   "cell_type": "code",
   "execution_count": 38,
   "id": "b25fd896",
   "metadata": {},
   "outputs": [],
   "source": [
    "graph = {\n",
    "    0: [8,3,1],\n",
    "    1: [0,7],\n",
    "    7: [1,2],\n",
    "    2: [5,3,7],\n",
    "    5: [2,6],\n",
    "    6: [5],\n",
    "    3: [2,0,4],\n",
    "    4: [3,8],\n",
    "    8: [4,0]\n",
    "    }"
   ]
  },
  {
   "cell_type": "markdown",
   "id": "3be017eb",
   "metadata": {},
   "source": [
    "### 1-DFS path for the Graph"
   ]
  },
  {
   "cell_type": "code",
   "execution_count": 39,
   "id": "8a70e29e",
   "metadata": {},
   "outputs": [
    {
     "name": "stdout",
     "output_type": "stream",
     "text": [
      "[0, 1, 7, 2, 5, 6, 3, 4, 8]\n"
     ]
    }
   ],
   "source": [
    "def dfs(graph,start):\n",
    "    list_of_nodes = list(graph.keys())\n",
    "    nodes_to_visit_stack = Stack(len(list_of_nodes))\n",
    "    nodes_to_visit_stack.push(start)\n",
    "    visited_nodes = []\n",
    "    inner_list = []\n",
    "    for i in range(len(list_of_nodes)):\n",
    "        if nodes_to_visit_stack.is_empty():\n",
    "            break\n",
    "        start = nodes_to_visit_stack.pop()\n",
    "        inner_list = list(graph[start])\n",
    "        visited_nodes.append(start)\n",
    "        for j in inner_list:\n",
    "            if j not in visited_nodes and j not in nodes_to_visit_stack.arr:\n",
    "                nodes_to_visit_stack.push(j)\n",
    "    return visited_nodes\n",
    "print(dfs(graph,0))"
   ]
  },
  {
   "cell_type": "markdown",
   "id": "d27a333d",
   "metadata": {},
   "source": [
    "### 2-BFS Path for the graph"
   ]
  },
  {
   "cell_type": "code",
   "execution_count": 40,
   "id": "27684cb1",
   "metadata": {},
   "outputs": [
    {
     "name": "stdout",
     "output_type": "stream",
     "text": [
      "[0, 8, 3, 1, 4, 2, 7, 5, 6]\n"
     ]
    }
   ],
   "source": [
    "def bfs(graph,start):\n",
    "    list_of_nodes = list(graph.keys())\n",
    "    nodes_to_visit_queue = Queue(len(list_of_nodes))\n",
    "    nodes_to_visit_queue.push(start)\n",
    "    visited_nodes = []\n",
    "    inner_list = []\n",
    "    for i in range(len(list_of_nodes)):\n",
    "        if nodes_to_visit_queue.is_empty():\n",
    "            break\n",
    "        start = nodes_to_visit_queue.pop()\n",
    "        inner_list = list(graph[start])\n",
    "        visited_nodes.append(start)\n",
    "        for j in inner_list:\n",
    "            if j not in visited_nodes and j not in nodes_to_visit_queue.arr:\n",
    "                nodes_to_visit_queue.push(j)\n",
    "    return visited_nodes\n",
    "print(bfs(graph,0))    "
   ]
  },
  {
   "cell_type": "markdown",
   "id": "21544420",
   "metadata": {},
   "source": [
    "###  3-Dijkstra for the following weighted graph"
   ]
  },
  {
   "cell_type": "code",
   "execution_count": 41,
   "id": "9f19a63f",
   "metadata": {},
   "outputs": [],
   "source": [
    "def dijkstra(graph, initial): \n",
    "    visited = {initial: 0}     \n",
    "    path = {} \n",
    "    nodes = set(graph.nodes) \n",
    "\n",
    "    while nodes: \n",
    "        min_node = None \n",
    "        for node in nodes: \n",
    "            if node in visited: \n",
    "                if min_node is None: \n",
    "                    min_node = node \n",
    "                elif visited[node] < visited[min_node]:                     \n",
    "                    min_node = node         \n",
    "        if min_node is None: \n",
    "            break \n",
    "        nodes.remove(min_node)         \n",
    "        current_weight = visited[min_node]  \n",
    "        for edge in graph.edges[min_node]: \n",
    "            try: \n",
    "                weight = current_weight + graph.distances[(min_node, edge)]             \n",
    "            except: \n",
    "                continue \n",
    "            if edge not in visited or weight < visited[edge]: \n",
    "                visited[edge] = weight                 \n",
    "                path[edge] = min_node \n",
    "    return visited, path "
   ]
  },
  {
   "cell_type": "code",
   "execution_count": 42,
   "id": "4859511f",
   "metadata": {},
   "outputs": [
    {
     "name": "stdout",
     "output_type": "stream",
     "text": [
      "{0: 0, 1: 8, 2: 9, 3: 9, 5: 15, 6: 13, 7: 13, 4: 20}\n"
     ]
    }
   ],
   "source": [
    "G = Graph()\n",
    "for node in [0, 1, 2, 3, 4, 5, 6,7]:\n",
    "    G.add_node(node) \n",
    "G.add_edge(0,1,8)\n",
    "G.add_edge(0,2,9)\n",
    "G.add_edge(1,3,1)\n",
    "G.add_edge(1,5,7)\n",
    "G.add_edge(1,6,9)\n",
    "G.add_edge(2,5,6)\n",
    "G.add_edge(2,6,4)\n",
    "G.add_edge(3,7,4)\n",
    "G.add_edge(4,7,7)\n",
    "G.add_edge(5,7,2)\n",
    "G.add_edge(6,7,6)\n",
    "print(dijkstra(G, 0)[0])"
   ]
  },
  {
   "cell_type": "code",
   "execution_count": null,
   "id": "6e391381",
   "metadata": {},
   "outputs": [],
   "source": []
  }
 ],
 "metadata": {
  "kernelspec": {
   "display_name": "Python 3 (ipykernel)",
   "language": "python",
   "name": "python3"
  },
  "language_info": {
   "codemirror_mode": {
    "name": "ipython",
    "version": 3
   },
   "file_extension": ".py",
   "mimetype": "text/x-python",
   "name": "python",
   "nbconvert_exporter": "python",
   "pygments_lexer": "ipython3",
   "version": "3.7.3"
  }
 },
 "nbformat": 4,
 "nbformat_minor": 5
}
