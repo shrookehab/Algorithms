{
 "cells": [
  {
   "cell_type": "markdown",
   "id": "556eeda8",
   "metadata": {},
   "source": [
    "# Lab 6\n",
    "# Shrook Ehab Attia\n",
    "# AI Nasr City Group 1\n",
    "### 0-1 Knapsack problem using Dynamic Programming"
   ]
  },
  {
   "cell_type": "code",
   "execution_count": 18,
   "id": "b4ba577c",
   "metadata": {},
   "outputs": [
    {
     "name": "stdout",
     "output_type": "stream",
     "text": [
      "the Total weight =  220\n"
     ]
    }
   ],
   "source": [
    "def Knapsack(weights, values, capacity): #O(i*j), where i = length of values and j = capacity\n",
    "    length = len(values)\n",
    "    dpTable = []\n",
    "    for i in range(length + 1):\n",
    "        table = []\n",
    "        for j in range(capacity + 1):\n",
    "            table.append(0)\n",
    "        dpTable.append(table)\n",
    "    for i in range(length + 1):\n",
    "        for j in range(capacity + 1):\n",
    "            if i == 0 or j == 0:\n",
    "                dpTable[i][j] = 0\n",
    "            elif weights[i - 1] >= capacity:\n",
    "                dpTable[i][j] = dpTable[i - 1][j]\n",
    "            else:\n",
    "                dpTable[i][j] =  max(values[i - 1] + dpTable[i - 1][j - weights[i - 1]], dpTable[i - 1][j])\n",
    "    return dpTable[length][capacity]\n",
    "    \n",
    "values = [60, 100, 120]\n",
    "weights = [10, 20, 30]\n",
    "capacity = 50\n",
    "print('the Total weight = ', Knapsack(weights, values, capacity))"
   ]
  },
  {
   "cell_type": "markdown",
   "id": "3b80aef7",
   "metadata": {},
   "source": [
    "### IS the solution polynomial? "
   ]
  },
  {
   "cell_type": "markdown",
   "id": "75b41d83",
   "metadata": {},
   "source": [
    "#### No. As the solution is pseudo-polynomial time, where the decision problem form of the knapsack problem (Can a value of at least V be achieved without exceeding the weight W?) is NP-complete, thus there is no known algorithm both correct and fast (polynomial-time) in all cases.\n",
    "#### Further, the complexity of this problem depends on the size of the input values v_i's, w_i's. That is, if there is a way of rounding off the values making them more restricted, then we’d have a polynomial-time algorithm."
   ]
  },
  {
   "cell_type": "markdown",
   "id": "533d7524",
   "metadata": {},
   "source": [
    "### Sources\n",
    "#### https://stackoverflow.com/questions/9436582/why-0-1-knapsack-using-dynamic-programming-is-not-polynomial-time-algorithm\n",
    "#### https://en.wikipedia.org/wiki/Knapsack_problem#Dominance_relations\n",
    "#### https://www.baeldung.com/cs/knapsack-problem-np-completeness"
   ]
  },
  {
   "cell_type": "code",
   "execution_count": null,
   "id": "41839387",
   "metadata": {},
   "outputs": [],
   "source": []
  }
 ],
 "metadata": {
  "kernelspec": {
   "display_name": "Python 3 (ipykernel)",
   "language": "python",
   "name": "python3"
  },
  "language_info": {
   "codemirror_mode": {
    "name": "ipython",
    "version": 3
   },
   "file_extension": ".py",
   "mimetype": "text/x-python",
   "name": "python",
   "nbconvert_exporter": "python",
   "pygments_lexer": "ipython3",
   "version": "3.7.3"
  }
 },
 "nbformat": 4,
 "nbformat_minor": 5
}
