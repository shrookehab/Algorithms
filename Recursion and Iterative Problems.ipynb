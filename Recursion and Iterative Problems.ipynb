{
 "cells": [
  {
   "cell_type": "markdown",
   "id": "932800dc",
   "metadata": {},
   "source": [
    "### 1.1 Factorial(iterative)"
   ]
  },
  {
   "cell_type": "code",
   "execution_count": 37,
   "id": "929a2995",
   "metadata": {},
   "outputs": [
    {
     "name": "stdout",
     "output_type": "stream",
     "text": [
      "The Factorial of 5 is : 120\n"
     ]
    }
   ],
   "source": [
    "def FactI(n): #O(N)\n",
    "    fact = 1\n",
    "    for i in range(1, n+1):\n",
    "        fact = fact * i\n",
    "    return fact\n",
    "num = 5\n",
    "print(\"The Factorial of {} is : {}\".format(num, FactI(num)))"
   ]
  },
  {
   "cell_type": "markdown",
   "id": "3a2aeb9d",
   "metadata": {},
   "source": [
    "### 1.2 Factorial(recursion)"
   ]
  },
  {
   "cell_type": "code",
   "execution_count": 40,
   "id": "496f02a0",
   "metadata": {},
   "outputs": [
    {
     "name": "stdout",
     "output_type": "stream",
     "text": [
      "The Factorial of 5 is : 120\n"
     ]
    }
   ],
   "source": [
    "def FactR(n): #Using Master Case: T(N) = T(N-1) + 3 -> O(N)\n",
    "    if n == 0 or n == 1:\n",
    "        return 1\n",
    "    return (n * Fact(n - 1))\n",
    "num = 5\n",
    "print(\"The Factorial of {} is : {}\".format(num, FactR(num)))"
   ]
  },
  {
   "cell_type": "markdown",
   "id": "9c50563e",
   "metadata": {},
   "source": [
    "### 2.1 Fibonacci (iterative)"
   ]
  },
  {
   "cell_type": "code",
   "execution_count": 39,
   "id": "fc5b0fab",
   "metadata": {},
   "outputs": [
    {
     "name": "stdout",
     "output_type": "stream",
     "text": [
      "The Fibonacci of 5 is : 5\n"
     ]
    }
   ],
   "source": [
    "def FibI(n): #O(N)\n",
    "    prev = 0\n",
    "    next = 1\n",
    "    if n == 0:\n",
    "        return prev\n",
    "    elif n == 1:\n",
    "        return next\n",
    "    else:\n",
    "        for i in range(1, n):\n",
    "            temp = prev + next\n",
    "            prev = next\n",
    "            next = temp\n",
    "        return next\n",
    "num = 5\n",
    "print(\"The Fibonacci of {} is : {}\".format(num, FibI(num)))"
   ]
  },
  {
   "cell_type": "markdown",
   "id": "5eac1960",
   "metadata": {},
   "source": [
    "### 2.2 Fibonacci (recursion)"
   ]
  },
  {
   "cell_type": "code",
   "execution_count": 38,
   "id": "d50eb803",
   "metadata": {},
   "outputs": [
    {
     "name": "stdout",
     "output_type": "stream",
     "text": [
      "The Fibonacci of 5 is : 5\n"
     ]
    }
   ],
   "source": [
    "def FibR(n): #Using Master Case: T(N) = T(N-1) + T(N-2) -> O(N)\n",
    "    if n == 0:\n",
    "        return 0\n",
    "    elif n == 1 or n == 2:\n",
    "        return 1\n",
    "    return (FibR(n-1) + FibR(n -2))\n",
    "num = 5\n",
    "print(\"The Fibonacci of {} is : {}\".format(num, FibR(num)))"
   ]
  },
  {
   "cell_type": "markdown",
   "id": "47e6c458",
   "metadata": {},
   "source": [
    "### 3.1 Linear Search (iterative)"
   ]
  },
  {
   "cell_type": "code",
   "execution_count": 41,
   "id": "b8745842",
   "metadata": {},
   "outputs": [
    {
     "name": "stdout",
     "output_type": "stream",
     "text": [
      "Element 8 found in index : 3\n"
     ]
    }
   ],
   "source": [
    "def LinearSearchI(arr, element): #O(N)\n",
    "    for i in range(0, len(arr)):\n",
    "        if arr[i] == element:\n",
    "            return i\n",
    "    return -1\n",
    "arr = [5, 3, 4, 8, 1, 4]\n",
    "element = 8\n",
    "search = LinearSearchI(arr, element)\n",
    "if search == -1:\n",
    "    print(\"Element not Exist!!!!\")\n",
    "else:\n",
    "    print(\"Element {} found in index : {}\".format(element, search))"
   ]
  },
  {
   "cell_type": "markdown",
   "id": "59a2d17e",
   "metadata": {},
   "source": [
    "### 3.2 Linear Search (recursion)"
   ]
  },
  {
   "cell_type": "code",
   "execution_count": 35,
   "id": "f533a0a8",
   "metadata": {},
   "outputs": [
    {
     "name": "stdout",
     "output_type": "stream",
     "text": [
      "Element 8 found in index : 3\n"
     ]
    }
   ],
   "source": [
    "def LinearSearchR(arr2, element2, left, right): #Using Master Case: T(N) = T(N-1)\n",
    "    if right < left:\n",
    "        return -1\n",
    "    if arr2[left] == element2:\n",
    "        return left\n",
    "    if arr2[right] == element2:\n",
    "        return right\n",
    "    return LinearSearchR(arr2, element2, left+1, right-1)\n",
    "\n",
    "arr1 = [5, 3, 4, 8, 1, 4]\n",
    "element1 = 8\n",
    "search1 = LinearSearchR(arr1, element1, 0, len(arr1) - 1)\n",
    "if search1 == -1:\n",
    "    print(\"Element not Exist!!!!\")\n",
    "else:\n",
    "    print(\"Element {} found in index : {}\".format(element1, search1))"
   ]
  },
  {
   "cell_type": "markdown",
   "id": "d2531337",
   "metadata": {},
   "source": [
    "### 4.1 Binary Search (iterative)"
   ]
  },
  {
   "cell_type": "code",
   "execution_count": 10,
   "id": "f2a10cf4",
   "metadata": {},
   "outputs": [
    {
     "name": "stdout",
     "output_type": "stream",
     "text": [
      "Element 12 found in index : 3\n"
     ]
    }
   ],
   "source": [
    "def BinarySearchI(arr4, element4):\n",
    "    left4 = 0\n",
    "    right4 = len(arr4) - 1\n",
    "    while left4 <= right4:\n",
    "        \n",
    "        mid = (right4 + left4) // 2\n",
    "        \n",
    "        if arr4[mid] == element4:\n",
    "            return mid\n",
    "            \n",
    "        elif arr4[mid] > element4:\n",
    "            right4 = mid - 1\n",
    "        else:\n",
    "            left4 = mid + 1\n",
    "    return -1\n",
    "\n",
    "arr5 = [ 2, 4, 5, 12, 40, 23 ]\n",
    "element5 = 12\n",
    "search5 = BinarySearchI(arr5, element5)\n",
    "if search5 == -1:\n",
    "    print(\"Element not Exist!!!!\")\n",
    "else:\n",
    "    print(\"Element {} found in index : {}\".format(element5, search5))\n",
    "#iterations: loop until reach 1\n",
    "#        (1) N/2 -> N/2^1\n",
    "#        (2) N/4 -> N/2^2\n",
    "#        (L) 1 -> N/2^L\n",
    "#        ----------------\n",
    "#        N/2^L = 1 -> N = 2^L\n",
    "#        log N base 2 = L log 2 base 2\n",
    "#        log N base 2 = L\n",
    "#        ------------------\n",
    "#        #iterations * O(B)\n",
    "#        log N base 2 * O(1)\n",
    "#        O(log N base 2)"
   ]
  },
  {
   "cell_type": "markdown",
   "id": "c3829696",
   "metadata": {},
   "source": [
    "### 4.2 Binary Search (recursion)"
   ]
  },
  {
   "cell_type": "code",
   "execution_count": 11,
   "id": "55cc2fb4",
   "metadata": {},
   "outputs": [
    {
     "name": "stdout",
     "output_type": "stream",
     "text": [
      "Element 12 found in index : 3\n"
     ]
    }
   ],
   "source": [
    "def BinarySearchI(arr4, element4, left4, right4):\n",
    "    if left4 > right4:\n",
    "            return -1\n",
    "\n",
    "    mid = (left4 + right4) // 2\n",
    "\n",
    "    if arr4[mid] == element4:\n",
    "            return mid\n",
    "    elif arr4[mid] > element4:\n",
    "        return BinarySearchI(arr4, element4, left4, mid - 1)\n",
    "    else:\n",
    "        return BinarySearchI(arr4, element4, mid + 1, right4)\n",
    "\n",
    "arr5 = [ 2, 4, 5, 12, 40, 23 ]\n",
    "element5 = 12\n",
    "search5 = BinarySearchI(arr5, element5, 0 , len(arr5) - 1)\n",
    "if search5 == -1:\n",
    "    print(\"Element not Exist!!!!\")\n",
    "else:\n",
    "    print(\"Element {} found in index : {}\".format(element5, search5))\n",
    "\n",
    "#T(N) = T(N/2) + O(1)\n",
    "#        using Master Case\n",
    "#            1 vs N^log 1 base 2\n",
    "#            1 vs N^0\n",
    "#            1 vs 1\n",
    "#           ->case 2: theta(1 * log N)"
   ]
  },
  {
   "cell_type": "markdown",
   "id": "33998ce2",
   "metadata": {},
   "source": [
    "### 5.1 Insertion Sort (iterative)"
   ]
  },
  {
   "cell_type": "code",
   "execution_count": 105,
   "id": "1b686010",
   "metadata": {},
   "outputs": [
    {
     "name": "stdout",
     "output_type": "stream",
     "text": [
      "The array befor sorting :  [5, 3, 4, 8, 1, 4]\n",
      "The array after sorting :  [1, 3, 4, 4, 5, 8]\n"
     ]
    }
   ],
   "source": [
    "def InsertionSortI(arr): #Sort Ascending\n",
    "    for i in range(1, len(arr)):\n",
    "        element = arr[i]\n",
    "        j = i-1\n",
    "        while j >= 0 and element < arr[j] :\n",
    "                arr[j+1] = arr[j]\n",
    "                j = j - 1\n",
    "        arr[j+1] = element\n",
    "    \n",
    "arr = [5, 3, 4, 8, 1, 4]\n",
    "print(\"The array befor sorting : \", arr)\n",
    "InsertionSortI(arr)\n",
    "print(\"The array after sorting : \", arr)"
   ]
  },
  {
   "cell_type": "markdown",
   "id": "e7f288f8",
   "metadata": {},
   "source": [
    "### 5.2 Insertion Sort (recursion)"
   ]
  },
  {
   "cell_type": "code",
   "execution_count": 103,
   "id": "c6812366",
   "metadata": {},
   "outputs": [
    {
     "name": "stdout",
     "output_type": "stream",
     "text": [
      "The array befor sorting :  [5, 3, 4, 8, 1, 4]\n",
      "The array after sorting :  [1, 3, 4, 4, 5, 8]\n"
     ]
    }
   ],
   "source": [
    "def InsertionSortR(arr, length): #Sort Ascending\n",
    "    if length <= 1:\n",
    "        return\n",
    "    \n",
    "    InsertionSortR(arr, length - 1)\n",
    "    \n",
    "    element = arr[length - 1]\n",
    "    j = length - 2\n",
    "    while j >= 0 and element < arr[j] :\n",
    "            arr[j+1] = arr[j]\n",
    "            j = j - 1\n",
    "    arr[j+1] = element\n",
    "\n",
    "arr = [5, 3, 4, 8, 1, 4]\n",
    "print(\"The array befor sorting : \", arr)\n",
    "InsertionSortR(arr, len(arr))\n",
    "print(\"The array after sorting : \", arr)"
   ]
  },
  {
   "cell_type": "markdown",
   "id": "77841c4c",
   "metadata": {},
   "source": [
    "### 6 Selection Sort"
   ]
  },
  {
   "cell_type": "code",
   "execution_count": 110,
   "id": "7e8e3feb",
   "metadata": {},
   "outputs": [
    {
     "name": "stdout",
     "output_type": "stream",
     "text": [
      "The array befor sorting :  [5, 3, 4, 8, 1, 4]\n",
      "The array after sorting :  [5, 3, 4, 8, 1, 4]\n"
     ]
    }
   ],
   "source": [
    "def SelectionSort(arr): #Sort Descending\n",
    "    for i in range(1, len(arr)):\n",
    "        minimum = i\n",
    "        for j in range(i + 1, len(arr)):\n",
    "            if arr[minimum] > arr[i]:\n",
    "                minimum = j\n",
    "    arr[i] = arr[minimum]\n",
    "    arr[minimum] = arr[i]\n",
    "arr = [5, 3, 4, 8, 1, 4]\n",
    "print(\"The array befor sorting : \", arr)\n",
    "SelectionSort(arr)\n",
    "print(\"The array after sorting : \", arr)"
   ]
  },
  {
   "cell_type": "markdown",
   "id": "5d34dd0d",
   "metadata": {},
   "source": [
    "### 7.1 Buubble Sort"
   ]
  },
  {
   "cell_type": "code",
   "execution_count": 116,
   "id": "d151af31",
   "metadata": {},
   "outputs": [
    {
     "name": "stdout",
     "output_type": "stream",
     "text": [
      "The array befor sorting :  [5, 3, 4, 8, 1, 4]\n",
      "The array after sorting :  [1, 3, 4, 4, 5, 8]\n"
     ]
    }
   ],
   "source": [
    "def BubbleSort(arr): #Sort Descending\n",
    "    for i in range(0, len(arr) - 1):\n",
    "        for j in range(0, len(arr) - i - 1):\n",
    "            if arr[j] > arr[j + 1]:\n",
    "                temp = arr[j]\n",
    "                arr[j] = arr[j + 1]\n",
    "                arr[j + 1] = temp\n",
    "arr = [5, 3, 4, 8, 1, 4]\n",
    "print(\"The array befor sorting : \", arr)\n",
    "BubbleSort(arr)\n",
    "print(\"The array after sorting : \", arr)"
   ]
  },
  {
   "cell_type": "markdown",
   "id": "bff48e7b",
   "metadata": {},
   "source": [
    "### 7.2 Buubble Sort(with swap flag)"
   ]
  },
  {
   "cell_type": "code",
   "execution_count": 2,
   "id": "af28b8fa",
   "metadata": {},
   "outputs": [
    {
     "name": "stdout",
     "output_type": "stream",
     "text": [
      "The array befor sorting :  [5, 3, 4, 8, 1, 4]\n",
      "The array after sorting :  [1, 3, 4, 4, 5, 8]\n"
     ]
    }
   ],
   "source": [
    "def BubbleSort(arr): #Sort Descending\n",
    "    for i in range(0, len(arr) - 1):\n",
    "        isSwapped = False\n",
    "        for j in range(0, len(arr) - i - 1):\n",
    "            if arr[j] > arr[j + 1]:\n",
    "                temp = arr[j]\n",
    "                arr[j] = arr[j + 1]\n",
    "                arr[j + 1] = temp\n",
    "                isSwapped = True\n",
    "        if isSwapped == False:\n",
    "            break\n",
    "arr = [5, 3, 4, 8, 1, 4]\n",
    "print(\"The array befor sorting : \", arr)\n",
    "BubbleSort(arr)\n",
    "print(\"The array after sorting : \", arr)"
   ]
  },
  {
   "cell_type": "markdown",
   "id": "f53bfa3f",
   "metadata": {},
   "source": [
    "### 8.1 GCD"
   ]
  },
  {
   "cell_type": "code",
   "execution_count": 4,
   "id": "c51147fe",
   "metadata": {},
   "outputs": [
    {
     "name": "stdout",
     "output_type": "stream",
     "text": [
      "The gcd of 60 and 48 is : 12\n"
     ]
    }
   ],
   "source": [
    "def GCD(num1, num2):\n",
    "    if num1 > num2:\n",
    "        start = num2\n",
    "    else:\n",
    "        start = num1\n",
    "    for i in range(1, start + 1):\n",
    "        if (num1 % i == 0) and (num2 % i == 0):\n",
    "            result = i\n",
    "    return result\n",
    "  \n",
    "num1 = 60\n",
    "num2 = 48\n",
    "print (\"The gcd of {} and {} is : {}\".format(num1, num2, GCD(num1,num2)))"
   ]
  },
  {
   "cell_type": "markdown",
   "id": "045d6302",
   "metadata": {},
   "source": [
    "### 8.2 GCD(with Euclidean Lemma)"
   ]
  },
  {
   "cell_type": "code",
   "execution_count": 7,
   "id": "d9fe5638",
   "metadata": {},
   "outputs": [
    {
     "name": "stdout",
     "output_type": "stream",
     "text": [
      "The gcd of 60 and 48 is : 12\n"
     ]
    }
   ],
   "source": [
    "def GCD(num1, num2):\n",
    "    if num1 == 0 :\n",
    "        return num2 \n",
    "\n",
    "    return GCD(num2 % num1, num1)\n",
    "\n",
    "num1 = 60\n",
    "num2 = 48\n",
    "print (\"The gcd of {} and {} is : {}\".format(num1, num2, GCD(num1,num2)))"
   ]
  },
  {
   "cell_type": "code",
   "execution_count": null,
   "id": "928fff7c",
   "metadata": {},
   "outputs": [],
   "source": []
  }
 ],
 "metadata": {
  "kernelspec": {
   "display_name": "Python 3 (ipykernel)",
   "language": "python",
   "name": "python3"
  },
  "language_info": {
   "codemirror_mode": {
    "name": "ipython",
    "version": 3
   },
   "file_extension": ".py",
   "mimetype": "text/x-python",
   "name": "python",
   "nbconvert_exporter": "python",
   "pygments_lexer": "ipython3",
   "version": "3.7.3"
  }
 },
 "nbformat": 4,
 "nbformat_minor": 5
}
