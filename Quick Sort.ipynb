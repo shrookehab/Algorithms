{
 "cells": [
  {
   "cell_type": "markdown",
   "id": "7067288c",
   "metadata": {},
   "source": [
    "# Lab 7\n",
    "# Shrook Ehab Attia\n",
    "# AI Nasr City Group 1"
   ]
  },
  {
   "cell_type": "markdown",
   "id": "0de67e9a",
   "metadata": {},
   "source": [
    "###  Quick Sort Implementation"
   ]
  },
  {
   "cell_type": "code",
   "execution_count": 13,
   "id": "28d4d519",
   "metadata": {},
   "outputs": [
    {
     "name": "stdout",
     "output_type": "stream",
     "text": [
      "Array before sorting is:  [10, 7, 8, 9, 1, 5]\n",
      "Array after sorting is:  [1, 5, 7, 9, 8, 10]\n"
     ]
    }
   ],
   "source": [
    "def partition(arr, left, right):\n",
    "    idx = left - 1\n",
    "    pivot = arr[right]\n",
    "    for j in range(left, right):\n",
    "        if arr[j] <= pivot:\n",
    "            idx = idx + 1\n",
    "            arr[idx], arr[j] = arr[j], arr[idx]\n",
    "        arr[idx + 1], arr[right] = arr[right], arr[idx + 1]\n",
    "    return (idx + 1)\n",
    "def quickSort(arr, left, right):\n",
    "    length = len(arr)\n",
    "    if length == 1:\n",
    "        return arr\n",
    "    if left < right:\n",
    "        pivot = partition(arr, left, right)\n",
    "        quickSort(arr, pivot + 1, right)\n",
    "        quickSort(arr, left, pivot - 1)\n",
    "        \n",
    "arr = [10, 7, 8, 9, 1, 5]\n",
    "print('Array before sorting is: ', arr)\n",
    "length = len(arr)\n",
    "quickSort(arr, 0, length - 1)\n",
    "print('Array after sorting is: ', arr)"
   ]
  },
  {
   "cell_type": "markdown",
   "id": "51e89b0d",
   "metadata": {},
   "source": [
    "### What is the complexity of Quicksort?\n",
    "#### O(N^2) as the pivot at the end of the array"
   ]
  },
  {
   "cell_type": "code",
   "execution_count": null,
   "id": "5a539870",
   "metadata": {},
   "outputs": [],
   "source": []
  }
 ],
 "metadata": {
  "kernelspec": {
   "display_name": "Python 3 (ipykernel)",
   "language": "python",
   "name": "python3"
  },
  "language_info": {
   "codemirror_mode": {
    "name": "ipython",
    "version": 3
   },
   "file_extension": ".py",
   "mimetype": "text/x-python",
   "name": "python",
   "nbconvert_exporter": "python",
   "pygments_lexer": "ipython3",
   "version": "3.7.3"
  }
 },
 "nbformat": 4,
 "nbformat_minor": 5
}
